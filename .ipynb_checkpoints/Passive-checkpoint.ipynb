{
 "cells": [
  {
   "cell_type": "code",
   "execution_count": 1,
   "id": "64c82149",
   "metadata": {},
   "outputs": [],
   "source": [
    "import numpy as np\n",
    "\n",
    "class PassiveAggressive():\n",
    "    \n",
    "#     Define learning rate and number of iteration\n",
    "    \n",
    "    def __init__(self, C=1.0, max_iter=1000):\n",
    "        \n",
    "        self.C = C\n",
    "        \n",
    "        self.max_iter = max_iter\n",
    "        \n",
    "#     Call fit function from the model to train the model\n",
    "    def fit(self, X, y):\n",
    "        \n",
    "        self.w = np.zeros(X.shape[1])\n",
    "        \n",
    "        for t in range(self.max_iter):\n",
    "            \n",
    "            for i, x in enumerate(X):\n",
    "                \n",
    "                y_pred = np.dot(self.w, x)\n",
    "                \n",
    "                loss = max(0, 1 - y[i] * y_pred)\n",
    "                \n",
    "                if loss == 0:\n",
    "                    \n",
    "                    continue\n",
    "                    \n",
    "                tau = loss / (np.linalg.norm(x) ** 2 + 1 / (2 * self.C))\n",
    "                \n",
    "                self.w += tau * y[i] * x\n",
    "    \n",
    "    def predict(self, X):\n",
    "        \n",
    "        y_pred = np.dot(X, self.w)\n",
    "        \n",
    "        return np.sign(y_pred)\n"
   ]
  },
  {
   "cell_type": "code",
   "execution_count": null,
   "id": "c384ceab",
   "metadata": {},
   "outputs": [],
   "source": []
  }
 ],
 "metadata": {
  "kernelspec": {
   "display_name": "Python 3 (ipykernel)",
   "language": "python",
   "name": "python3"
  },
  "language_info": {
   "codemirror_mode": {
    "name": "ipython",
    "version": 3
   },
   "file_extension": ".py",
   "mimetype": "text/x-python",
   "name": "python",
   "nbconvert_exporter": "python",
   "pygments_lexer": "ipython3",
   "version": "3.9.7"
  }
 },
 "nbformat": 4,
 "nbformat_minor": 5
}
